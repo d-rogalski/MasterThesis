{
 "cells": [
  {
   "cell_type": "code",
   "execution_count": 20,
   "metadata": {},
   "outputs": [],
   "source": [
    "# Libraries \n",
    "import tensorflow as tf\n",
    "import numpy as np\n",
    "import matplotlib.pyplot as plt\n",
    "import tf_utils\n",
    "from time import time\n",
    "from datetime import date\n",
    "import json"
   ]
  },
  {
   "cell_type": "code",
   "execution_count": 2,
   "metadata": {},
   "outputs": [],
   "source": [
    "# Parameters\n",
    "EPOCHS = 50\n",
    "BATCH_SIZE = 64\n",
    "IMG_SIZE = (224, 224)\n",
    "SEED = 123\n",
    "\n",
    "FPATH = 'C:/Users/User/Desktop/saved models'"
   ]
  },
  {
   "cell_type": "code",
   "execution_count": 12,
   "metadata": {},
   "outputs": [
    {
     "name": "stdout",
     "output_type": "stream",
     "text": [
      "Found 10033 files belonging to 75 classes.\n",
      "Found 138 files belonging to 75 classes.\n",
      "Batches (64 images per batch) in subsets:\n",
      "Train: 109\n",
      "Validation: 23\n",
      "Test: 25\n"
     ]
    }
   ],
   "source": [
    "# Dataset preparation\n",
    "\n",
    "# Loading\n",
    "ds_kaggle = tf.keras.utils.image_dataset_from_directory(\n",
    "    'kaggle dataset',\n",
    "    validation_split=0,\n",
    "    shuffle=True,\n",
    "    seed=SEED,\n",
    "    image_size=IMG_SIZE,\n",
    "    batch_size=BATCH_SIZE\n",
    ")\n",
    "\n",
    "nature_ds = tf.keras.utils.image_dataset_from_directory(\n",
    "    'nature dataset',\n",
    "    validation_split=0,\n",
    "    shuffle=True,\n",
    "    seed=SEED,\n",
    "    image_size=IMG_SIZE,\n",
    "    batch_size=138,\n",
    ")\n",
    "\n",
    "class_names = ds_kaggle.class_names\n",
    "no_classes = len(class_names)\n",
    "\n",
    "# Splitting\n",
    "train_ds, valid_ds, test_ds = tf_utils.get_dataset_partitions(ds_kaggle, 0.7, 0.15, 0.15, seed=SEED)\n",
    "print(f'Batches ({BATCH_SIZE} images per batch) in subsets:')\n",
    "print(f'Train: {len(train_ds)}')\n",
    "print(f'Validation: {len(valid_ds)}')\n",
    "print(f'Test: {len(test_ds)}')\n",
    "\n",
    "# Normalization\n",
    "train_ds = train_ds.map(tf_utils.normalize)\n",
    "valid_ds = valid_ds.map(tf_utils.normalize)\n",
    "test_ds = test_ds.map(tf_utils.normalize)\n",
    "nature_ds = nature_ds.map(tf_utils.normalize)"
   ]
  },
  {
   "cell_type": "code",
   "execution_count": 13,
   "metadata": {},
   "outputs": [
    {
     "name": "stdout",
     "output_type": "stream",
     "text": [
      "Downloading data from https://storage.googleapis.com/tensorflow/keras-applications/vgg16/vgg16_weights_tf_dim_ordering_tf_kernels_notop.h5\n",
      "58889256/58889256 [==============================] - 6s 0us/step\n"
     ]
    }
   ],
   "source": [
    "# Constructing a model\n",
    "name = 'VGG16'\n",
    "# Loading pretrained convolutional layers of the model\n",
    "pretrained = tf.keras.applications.VGG16(\n",
    "    include_top=False,\n",
    "    weights='imagenet',\n",
    "    input_shape=(*IMG_SIZE, 3),\n",
    "    pooling='max'\n",
    ")\n",
    "\n",
    "# Disabling training of pretrained layers\n",
    "for layer in pretrained.layers:\n",
    "    layer.trainable = False\n",
    "\n",
    "# Creating the model - adding fully connected layers on top of model\n",
    "model = tf.keras.models.Sequential(name=name)\n",
    "model.add(pretrained)\n",
    "model.add(tf.keras.layers.Dense(2048, activation='relu'))\n",
    "model.add(tf.keras.layers.Dense(1024, activation='relu'))\n",
    "model.add(tf.keras.layers.Dense(no_classes, activation='softmax'))\n",
    "\n",
    "# Compilation\n",
    "model.compile(\n",
    "    optimizer='adam',\n",
    "    loss='sparse_categorical_crossentropy',\n",
    "    metrics=['accuracy']\n",
    ")"
   ]
  },
  {
   "cell_type": "code",
   "execution_count": null,
   "metadata": {},
   "outputs": [],
   "source": [
    "t0 = time()\n",
    "\n",
    "history = model.fit(\n",
    "    train_ds,\n",
    "    batch_size=BATCH_SIZE,\n",
    "    epochs=EPOCHS,\n",
    "    validation_data=valid_ds,\n",
    "    steps_per_epoch=len(train_ds),\n",
    "    validation_steps=len(valid_ds)\n",
    ")\n",
    "training_time = time() - t0\n",
    "training_date = date.today()"
   ]
  },
  {
   "cell_type": "code",
   "execution_count": null,
   "metadata": {},
   "outputs": [],
   "source": [
    "model.save(f'{FPATH}/{model.name}_({training_date})/model')\n",
    "\n",
    "tf_utils.plot_history(history)\n",
    "\n",
    "json.dump(history.history, open(f'{FPATH}/{model.name}/history.json', 'w'))"
   ]
  },
  {
   "cell_type": "code",
   "execution_count": null,
   "metadata": {},
   "outputs": [],
   "source": [
    "test_loss, test_accuracy = model.evaluate(test_ds)\n",
    "print('Kaggle set evaluation: ')\n",
    "print(f'Test loss: {test_loss}')\n",
    "print(f'Test accuracy: {test_accuracy}')"
   ]
  },
  {
   "cell_type": "code",
   "execution_count": 23,
   "metadata": {},
   "outputs": [
    {
     "name": "stdout",
     "output_type": "stream",
     "text": [
      "2/2 [==============================] - 13s 5s/step\n",
      "2/2 [==============================] - 13s 5s/step\n",
      "2/2 [==============================] - 13s 5s/step\n",
      "2/2 [==============================] - 13s 5s/step\n",
      "2/2 [==============================] - 13s 5s/step\n",
      "2/2 [==============================] - 14s 5s/step\n",
      "2/2 [==============================] - 13s 5s/step\n",
      "2/2 [==============================] - 14s 5s/step\n",
      "2/2 [==============================] - 13s 5s/step\n",
      "2/2 [==============================] - 13s 5s/step\n",
      "2/2 [==============================] - 13s 5s/step\n",
      "2/2 [==============================] - 12s 5s/step\n",
      "2/2 [==============================] - 12s 5s/step\n",
      "2/2 [==============================] - 12s 4s/step\n",
      "2/2 [==============================] - 12s 4s/step\n",
      "2/2 [==============================] - 12s 4s/step\n",
      "2/2 [==============================] - 12s 5s/step\n",
      "2/2 [==============================] - 12s 5s/step\n",
      "2/2 [==============================] - 12s 5s/step\n",
      "2/2 [==============================] - 12s 5s/step\n",
      "2/2 [==============================] - 13s 5s/step\n",
      "2/2 [==============================] - 12s 4s/step\n",
      "2/2 [==============================] - 12s 5s/step\n",
      "2/2 [==============================] - 12s 4s/step\n",
      "2/2 [==============================] - 12s 4s/step\n"
     ]
    },
    {
     "ename": "AttributeError",
     "evalue": "module 'Auxiliary functions' has no attribute 'confusion_matrix'",
     "output_type": "error",
     "traceback": [
      "\u001b[1;31m---------------------------------------------------------------------------\u001b[0m",
      "\u001b[1;31mAttributeError\u001b[0m                            Traceback (most recent call last)",
      "Cell \u001b[1;32mIn[23], line 7\u001b[0m\n\u001b[0;32m      4\u001b[0m     targets\u001b[39m.\u001b[39mappend(test_labels)\n\u001b[0;32m      5\u001b[0m     predictions\u001b[39m.\u001b[39mappend(model\u001b[39m.\u001b[39mpredict(test_images))\n\u001b[1;32m----> 7\u001b[0m m \u001b[39m=\u001b[39m tf_utils\u001b[39m.\u001b[39;49mconfusion_matrix(predictions, targets, no_classes)\n\u001b[0;32m      8\u001b[0m tf_utils\u001b[39m.\u001b[39mplot_confusion_matrix(m)\n",
      "\u001b[1;31mAttributeError\u001b[0m: module 'Auxiliary functions' has no attribute 'confusion_matrix'"
     ]
    }
   ],
   "source": [
    "targets = []\n",
    "predictions = []\n",
    "for test_images, test_labels in test_ds.take(-1):\n",
    "    targets.append(test_labels)\n",
    "    predictions.append(model.predict(test_images))\n",
    "\n",
    "m = tf_utils.confusion_matrix(predictions, targets, no_classes)\n",
    "tf_utils.plot_confusion_matrix(m)\n",
    "plt.show()"
   ]
  },
  {
   "cell_type": "code",
   "execution_count": null,
   "metadata": {},
   "outputs": [],
   "source": [
    "nature_test_loss, nature_test_accuracy = model.evaluate(nature_ds)\n",
    "print('Nature set evaluation: ')\n",
    "print(f'Test loss: {nature_test_loss}')\n",
    "print(f'Test accuracy: {nature_test_accuracy}')"
   ]
  },
  {
   "cell_type": "code",
   "execution_count": null,
   "metadata": {},
   "outputs": [],
   "source": [
    "targets = []\n",
    "predictions = []\n",
    "for test_images, test_labels in nature_ds.take(-1):\n",
    "    targets.append(test_labels)\n",
    "    predictions.append(model.predict(test_images))\n",
    "\n",
    "nature_m = tf_utils.confusion_matrix(predictions, targets, no_classes)\n",
    "tf_utils.plot_confusion_matrix(m)\n",
    "plt.show()"
   ]
  },
  {
   "cell_type": "code",
   "execution_count": null,
   "metadata": {},
   "outputs": [],
   "source": [
    "info = {\n",
    "    'date': training_date,\n",
    "    'duration': training_time,\n",
    "    'test_accuracy': test_accuracy,\n",
    "    'test_loss': test_loss,\n",
    "    'test_confusion': m,\n",
    "    'nature_accuracy': nature_test_accuracy,\n",
    "    'nature_loss': nature_test_loss,\n",
    "    'nature_confusion': nature_m\n",
    "    }\n",
    "\n",
    "json.dump(info, open(f'{FPATH}/{model.name}/info.json', 'w'))"
   ]
  }
 ],
 "metadata": {
  "kernelspec": {
   "display_name": "tf2",
   "language": "python",
   "name": "python3"
  },
  "language_info": {
   "codemirror_mode": {
    "name": "ipython",
    "version": 3
   },
   "file_extension": ".py",
   "mimetype": "text/x-python",
   "name": "python",
   "nbconvert_exporter": "python",
   "pygments_lexer": "ipython3",
   "version": "3.9.16"
  },
  "orig_nbformat": 4
 },
 "nbformat": 4,
 "nbformat_minor": 2
}
